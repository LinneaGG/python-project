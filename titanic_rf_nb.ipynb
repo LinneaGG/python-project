{
 "cells": [
  {
   "cell_type": "markdown",
   "id": "b76a91e6",
   "metadata": {},
   "source": [
    "# Predicting Titanic survival with machine learning \n",
    "### Linnéa Good"
   ]
  },
  {
   "cell_type": "markdown",
   "id": "2fb86b12",
   "metadata": {},
   "source": [
    "This script uses a random forest model with SciKit learn to predict the survival of passengers on the Titanic. \n",
    "\n",
    "The data consists of a passenger list along with passenger info and is from https://www.kaggle.com/competitions/titanic "
   ]
  },
  {
   "cell_type": "code",
   "execution_count": 17,
   "id": "d2a8c292",
   "metadata": {},
   "outputs": [],
   "source": [
    "# Random forest model to predict survival on the Titanic \n",
    "\n",
    "import pandas as pd\n",
    "import numpy as np\n",
    "from sklearn.ensemble import RandomForestClassifier\n",
    "from sklearn.impute import SimpleImputer\n",
    "from sklearn.metrics import accuracy_score, confusion_matrix, precision_score, \\\n",
    "recall_score, ConfusionMatrixDisplay\n",
    "from sklearn.model_selection import RandomizedSearchCV, train_test_split\n",
    "from scipy.stats import randint\n",
    "from sklearn import set_config\n",
    "import matplotlib.pyplot as plt"
   ]
  },
  {
   "cell_type": "markdown",
   "id": "ca4cfe96",
   "metadata": {},
   "source": [
    "There are two datasets to dowload from Kaggle: A training set and a test set. I will train and evaluate the model only on the train dataset, and in the last step I will use the best model I found with the training set to predict whether the passengers in the test set survived or not. I will then submit that result to the Kaggle competition where they will let me know how well my model did. "
   ]
  },
  {
   "cell_type": "code",
   "execution_count": 18,
   "id": "39467cc7",
   "metadata": {},
   "outputs": [
    {
     "name": "stdout",
     "output_type": "stream",
     "text": [
      "   PassengerId  Survived  Pclass  \\\n",
      "0            1         0       3   \n",
      "1            2         1       1   \n",
      "2            3         1       3   \n",
      "3            4         1       1   \n",
      "4            5         0       3   \n",
      "\n",
      "                                                Name     Sex   Age  SibSp  \\\n",
      "0                            Braund, Mr. Owen Harris    male  22.0      1   \n",
      "1  Cumings, Mrs. John Bradley (Florence Briggs Th...  female  38.0      1   \n",
      "2                             Heikkinen, Miss. Laina  female  26.0      0   \n",
      "3       Futrelle, Mrs. Jacques Heath (Lily May Peel)  female  35.0      1   \n",
      "4                           Allen, Mr. William Henry    male  35.0      0   \n",
      "\n",
      "   Parch            Ticket     Fare Cabin Embarked  \n",
      "0      0         A/5 21171   7.2500   NaN        S  \n",
      "1      0          PC 17599  71.2833   C85        C  \n",
      "2      0  STON/O2. 3101282   7.9250   NaN        S  \n",
      "3      0            113803  53.1000  C123        S  \n",
      "4      0            373450   8.0500   NaN        S  \n"
     ]
    }
   ],
   "source": [
    "# Read data into pandas DataFrame object \n",
    "titanic_data = pd.read_csv(\n",
    "    \"C:/Users/Linnea Good/Documents/PhD/Pythonkurs/project/train.csv\")\n",
    "\n",
    "print(titanic_data.head())\n",
    "\n",
    "# The data I want to predict after I have built the model \n",
    "titanic_test_data = pd.read_csv(\n",
    "    \"C:/Users/Linnea Good/Documents/PhD/Pythonkurs/project/test.csv\")"
   ]
  },
  {
   "cell_type": "markdown",
   "id": "7fe27a64",
   "metadata": {},
   "source": [
    "### Data processing\n",
    "To start with I removed some columns with variables that I considered to be unhelpful for classification and/or had formats that are too complicated to try and work with: *Name*, *Ticket*, and *Cabin*. \n",
    "\n",
    "I also changed the *Sex* column to *Female* and replaced \"male\" and \"female\" with 0's and 1's respectively. \n",
    "\n",
    "Lastly I created dummy variables for the *Embarked* column as there were 3 possible values there. "
   ]
  },
  {
   "cell_type": "code",
   "execution_count": 19,
   "id": "275b0e1b",
   "metadata": {},
   "outputs": [],
   "source": [
    "# Set PassengerId as index in DataFrame \n",
    "titanic_data = titanic_data.set_index(\"PassengerId\")\n",
    "\n",
    "titanic_test_data = titanic_test_data.set_index(\"PassengerId\")\n",
    "\n",
    "# Remove columns that will not help classify (probably) \n",
    "titanic_data = titanic_data.drop(\"Name\", axis=\"columns\")\n",
    "titanic_data = titanic_data.drop(\"Ticket\", axis=\"columns\")\n",
    "titanic_data = titanic_data.drop(\"Cabin\", axis=\"columns\")\n",
    "\n",
    "titanic_test_data = titanic_test_data.drop(\"Name\", axis=\"columns\")\n",
    "titanic_test_data = titanic_test_data.drop(\"Ticket\", axis=\"columns\")\n",
    "titanic_test_data = titanic_test_data.drop(\"Cabin\", axis=\"columns\")\n",
    "\n",
    "# Make Female = 1 and Male = 0 \n",
    "titanic_data['Sex'] = titanic_data['Sex'].map({'male':0,'female':1})\n",
    "titanic_data = titanic_data.rename(columns={\"Sex\": \"Female\"})\n",
    "\n",
    "titanic_test_data['Sex'] = titanic_test_data['Sex'].map({'male':0,'female':1})\n",
    "titanic_test_data = titanic_test_data.rename(columns={\"Sex\": \"Female\"})\n",
    "\n",
    "# Create dummy variables for Embarked \n",
    "titanic_data = pd.get_dummies(titanic_data)\n",
    "\n",
    "titanic_test_data = pd.get_dummies(titanic_test_data)"
   ]
  },
  {
   "cell_type": "code",
   "execution_count": 20,
   "id": "e8b65162",
   "metadata": {},
   "outputs": [],
   "source": [
    "# Split the data into features (X) and target (Y)\n",
    "X = titanic_data.drop(\"Survived\", axis=1)\n",
    "Y = titanic_data[\"Survived\"] \n",
    "\n",
    "# Split the data into training and test sets\n",
    "X_train, X_test, Y_train, Y_test = train_test_split(X, Y, test_size=0.2)"
   ]
  },
  {
   "cell_type": "markdown",
   "id": "ff8749cc",
   "metadata": {},
   "source": [
    "The *Age* column contained about 20% missing values, and since the random forest model cannot handle NaNs, I decided to impute the missing values with the mean age of the dataset (about 29 years). "
   ]
  },
  {
   "cell_type": "code",
   "execution_count": 21,
   "id": "ccfa3a0d",
   "metadata": {},
   "outputs": [
    {
     "name": "stdout",
     "output_type": "stream",
     "text": [
      "Proportion of NaNs in Age column: 0.19865319865319866\n"
     ]
    }
   ],
   "source": [
    "# Impute age to handle NaNs \n",
    "print(\"Proportion of NaNs in Age column: \" + str(titanic_data[\"Age\"].isna().sum() / len(titanic_data[\"Age\"])))\n",
    "\n",
    "set_config(transform_output=\"pandas\") # To keep imputed output as pandas DF\n",
    "\n",
    "imp = SimpleImputer(missing_values=np.nan, strategy='mean')\n",
    "imp = imp.fit(X_train)\n",
    "X_train_imp = imp.transform(X_train)\n",
    "X_test_imp = imp.transform(X_test)\n",
    "titanic_test_data = imp.transform(titanic_test_data)"
   ]
  },
  {
   "cell_type": "markdown",
   "id": "e1e1837c",
   "metadata": {},
   "source": [
    "### Hyperparameter tuning \n",
    "I used the RandomizedSearchCV to try and search for the optimal parameters to use in the model. "
   ]
  },
  {
   "cell_type": "code",
   "execution_count": 22,
   "id": "4d3dee63",
   "metadata": {},
   "outputs": [
    {
     "name": "stdout",
     "output_type": "stream",
     "text": [
      "Best hyperparameters: {'max_depth': 38, 'n_estimators': 326}\n"
     ]
    }
   ],
   "source": [
    "rf = RandomForestClassifier()\n",
    "\n",
    "# Hyperparameter tuning \n",
    "hyperparameters = {'n_estimators': randint(200,800),\n",
    "              'max_depth': randint(20,40)}\n",
    "\n",
    "rand_search = RandomizedSearchCV(rf, \n",
    "                                 param_distributions = hyperparameters, \n",
    "                                 n_iter=10, \n",
    "                                 cv=5)\n",
    "\n",
    "rand_search.fit(X_train_imp, Y_train)\n",
    "\n",
    "# Create a variable for the best model\n",
    "best_rf = rand_search.best_estimator_\n",
    "\n",
    "# Print the best hyperparameters\n",
    "print('Best hyperparameters:',  rand_search.best_params_)\n",
    "\n",
    "# Generate predictions with the best model\n",
    "Y_pred = best_rf.predict(X_test_imp)"
   ]
  },
  {
   "cell_type": "markdown",
   "id": "a408911e",
   "metadata": {},
   "source": [
    "### Evaluating model accuracy\n",
    "To evaluate the accuracy of my model, I calculate the accuracy, precision, and recall of the model, and plot a confusion matrix. "
   ]
  },
  {
   "cell_type": "code",
   "execution_count": 23,
   "id": "2655e353",
   "metadata": {},
   "outputs": [
    {
     "name": "stdout",
     "output_type": "stream",
     "text": [
      "Accuracy: 0.8100558659217877\n",
      "Precision: 0.7692307692307693\n",
      "Recall: 0.7246376811594203\n"
     ]
    },
    {
     "data": {
      "image/png": "[encoded data removed]",
      "text/plain": [
       "<Figure size 640x480 with 2 Axes>"
      ]
     },
     "metadata": {},
     "output_type": "display_data"
    }
   ],
   "source": [
    "# Create the confusion matrix\n",
    "cm = confusion_matrix(Y_test, Y_pred)\n",
    "\n",
    "ConfusionMatrixDisplay(confusion_matrix=cm).plot();\n",
    "\n",
    "accuracy = accuracy_score(Y_test, Y_pred)\n",
    "precision = precision_score(Y_test, Y_pred)\n",
    "recall = recall_score(Y_test, Y_pred)\n",
    "\n",
    "print(\"Accuracy:\", accuracy)\n",
    "print(\"Precision:\", precision)\n",
    "print(\"Recall:\", recall)"
   ]
  },
  {
   "cell_type": "markdown",
   "id": "5482d1b5",
   "metadata": {},
   "source": [
    "And just because it's interesting, I also plotted the most important features for survival. \n",
    "\n",
    "It made me a bit surprised that Fare seems to be so important, but one thing to note is that (from my understanding) when several people traveled together the fare will be combined for all of them. This means that the *Fare* variable is actually basically a combination of the Ticket class (*Pclass*) and number of siblings, spouses (*SibSp*), parents and children (*ParCh*) variables. And maybe even the *Age* and *Female* variables, as children and women were less likely to travel alone, thereby raising the apparent fare for younger people and women. "
   ]
  },
  {
   "cell_type": "code",
   "execution_count": 24,
   "id": "a13591ba",
   "metadata": {},
   "outputs": [
    {
     "data": {
      "image/png": "[encoded data removed]",
      "text/plain": [
       "<Figure size 640x480 with 1 Axes>"
      ]
     },
     "metadata": {},
     "output_type": "display_data"
    }
   ],
   "source": [
    "# Create bar plot of most important features in the model \n",
    "feature_importances = pd.Series(\n",
    "    best_rf.feature_importances_, index=X_train.columns).sort_values(\n",
    "    ascending=False)\n",
    "\n",
    "feature_importances.plot.bar();"
   ]
  },
  {
   "cell_type": "code",
   "execution_count": 25,
   "id": "a0e951d6",
   "metadata": {},
   "outputs": [],
   "source": [
    "# And finally: Use the trained model to predict the test data \n",
    "# Need to first merge with DataFrame to keep index \n",
    "titanic_test_data[\"Survived\"] = best_rf.predict(titanic_test_data) \n",
    "Survival_pred = titanic_test_data[[\"Survived\"]]\n",
    "\n",
    "# Save predictions to submit to Kaggle \n",
    "Survival_pred.to_csv(\"Survival.csv\", index=True)"
   ]
  },
  {
   "cell_type": "markdown",
   "id": "9139b8b0",
   "metadata": {},
   "source": [
    "### Submission results \n",
    "After submitting my results to Kaggle, I managed to get a precision score of 0.76315, meaning I guessed correctly about 76% of times. This landed me on spot number 12524 on their leaderboard! "
   ]
  }
 ],
 "metadata": {
  "kernelspec": {
   "display_name": "Python 3 (ipykernel)",
   "language": "python",
   "name": "python3"
  },
  "language_info": {
   "codemirror_mode": {
    "name": "ipython",
    "version": 3
   },
   "file_extension": ".py",
   "mimetype": "text/x-python",
   "name": "python",
   "nbconvert_exporter": "python",
   "pygments_lexer": "ipython3",
   "version": "3.11.5"
  }
 },
 "nbformat": 4,
 "nbformat_minor": 5
}
